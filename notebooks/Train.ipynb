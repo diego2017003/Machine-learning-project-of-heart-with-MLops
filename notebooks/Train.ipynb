{
 "cells": [
  {
   "cell_type": "code",
   "execution_count": null,
   "metadata": {},
   "outputs": [],
   "source": [
    "!pip install sklearn_pandas"
   ]
  },
  {
   "cell_type": "code",
   "execution_count": null,
   "metadata": {},
   "outputs": [],
   "source": [
    "from sklearn.tree import DecisionTreeClassifier\n",
    "from sklearn.linear_model import LogisticRegression\n",
    "from sklearn.model_selection import GridSearchCV\n",
    "from sklearn.model_selection import train_test_split\n",
    "from sklearn.preprocessing import LabelEncoder\n",
    "import os\n",
    "from preprocessing import *\n",
    "from pathlib import Path\n",
    "import pandas as pd"
   ]
  },
  {
   "cell_type": "markdown",
   "metadata": {},
   "source": [
    "## Tunning the decision tree"
   ]
  },
  {
   "cell_type": "code",
   "execution_count": null,
   "metadata": {},
   "outputs": [],
   "source": [
    "file_dir = Path().resolve().parent\n",
    "file_dir = os.path.join(file_dir, 'data')\n",
    "file_dir = os.path.join(file_dir, 'heart_2020_cleaned.csv')\n",
    "data = pd.read_csv(file_dir)\n",
    "num,cat = get_numerical_categorical_features(data)\n",
    "categorical_data = data.loc[:,cat]\n",
    "numerical_data = data.loc[:,num]\n",
    "scaler = 1\n",
    "num_data = treat_numerical_data(numerical_data,scaler)\n",
    "encoder = 0\n",
    "cate_data = treat_categorical_data(categorical_data.drop(columns=['HeartDisease']),encoder)\n",
    "treat_data = pd.concat([num_data,cate_data],axis=1)\n",
    "treat_data['HeartDisease'] = LabelEncoder().fit_transform(data['HeartDisease'])\n"
   ]
  },
  {
   "cell_type": "code",
   "execution_count": null,
   "metadata": {},
   "outputs": [],
   "source": [
    "# parameters = {'penalty':['l1', 'l2', 'elasticnet', 'none'], 'solver':['newton-cg','lbfgs', 'liblinear', 'sag', 'saga']}\n",
    "# clf = GridSearchCV(LogisticRegression(), parameters,cv=3,scoring='precision')\n",
    "# target = treat_data.HeartDisease\n",
    "# features = treat_data.drop(columns=['HeartDisease'])\n",
    "# clf.fit(features, target)\n",
    "# print(clf.best_params_)"
   ]
  },
  {
   "cell_type": "code",
   "execution_count": null,
   "metadata": {},
   "outputs": [],
   "source": [
    "# parameters = {'criterion':['gini','entropy'], 'splitter':['best', 'random'],'max_depth':range(10)}\n",
    "# clf = GridSearchCV(DecisionTreeClassifier(), parameters,cv=3,scoring='precision')\n",
    "# target = treat_data.HeartDisease\n",
    "# features = treat_data.drop(columns=['HeartDisease'])\n",
    "# clf.fit(features, target)\n",
    "# print(clf.best_params_)"
   ]
  },
  {
   "cell_type": "code",
   "execution_count": null,
   "metadata": {},
   "outputs": [],
   "source": [
    "dt = DecisionTreeClassifier()"
   ]
  },
  {
   "cell_type": "code",
   "execution_count": null,
   "metadata": {},
   "outputs": [],
   "source": [
    "lr = LogisticRegression()"
   ]
  },
  {
   "cell_type": "code",
   "execution_count": null,
   "metadata": {},
   "outputs": [],
   "source": [
    "y = treat_data.HeartDisease\n",
    "X = treat_data.drop(columns=['HeartDisease'])\n",
    "X_train, X_test, y_train, y_test=train_test_split(X, y, test_size=0.2)"
   ]
  },
  {
   "cell_type": "code",
   "execution_count": null,
   "metadata": {},
   "outputs": [],
   "source": [
    "lr = lr.fit(X_train,y_train)"
   ]
  },
  {
   "cell_type": "code",
   "execution_count": null,
   "metadata": {},
   "outputs": [],
   "source": [
    "y_pred = lr.predict(X_test)"
   ]
  },
  {
   "cell_type": "code",
   "execution_count": null,
   "metadata": {},
   "outputs": [],
   "source": [
    "from sklearn.metrics import confusion_matrix\n",
    "import plotly.express as px\n",
    "\n",
    "cm = confusion_matrix(y_true=y_test,y_pred=y_pred,normalize='true')\n",
    "\n",
    "fig = px.imshow(cm, text_auto=True)\n",
    "fig.show()"
   ]
  },
  {
   "cell_type": "code",
   "execution_count": null,
   "metadata": {},
   "outputs": [],
   "source": [
    "dt = dt.fit(X_train,y_train)\n",
    "y_pred = dt.predict(X_test)\n",
    "cm = confusion_matrix(y_true=y_test,y_pred=y_pred,normalize='true')\n",
    "\n",
    "fig = px.imshow(cm, text_auto=True)\n",
    "fig.show()"
   ]
  }
 ],
 "metadata": {
  "interpreter": {
   "hash": "1d21bcdb219647e467d80dd8c8cd2139f75afdf8e5d571c73a178780bb2ef562"
  },
  "kernelspec": {
   "display_name": "Python 3 (ipykernel)",
   "language": "python",
   "name": "python3"
  },
  "language_info": {
   "codemirror_mode": {
    "name": "ipython",
    "version": 3
   },
   "file_extension": ".py",
   "mimetype": "text/x-python",
   "name": "python",
   "nbconvert_exporter": "python",
   "pygments_lexer": "ipython3",
   "version": "3.9.12"
  }
 },
 "nbformat": 4,
 "nbformat_minor": 2
}
