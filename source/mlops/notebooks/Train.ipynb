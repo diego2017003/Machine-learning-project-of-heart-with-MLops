{
 "cells": [
  {
   "cell_type": "code",
   "execution_count": null,
   "metadata": {},
   "outputs": [],
   "source": [
    "# !pip install sklearn_pandas"
   ]
  },
  {
   "cell_type": "code",
   "execution_count": null,
   "metadata": {},
   "outputs": [],
   "source": [
    "from sys import modules\n",
    "from sklearn.tree import DecisionTreeClassifier\n",
    "from sklearn.linear_model import LogisticRegression\n",
    "from sklearn.model_selection import GridSearchCV\n",
    "from sklearn.model_selection import train_test_split\n",
    "from sklearn.preprocessing import LabelEncoder\n",
    "import os\n",
    "import sys\n",
    "from pathlib import Path\n",
    "import pandas as pd\n",
    "import wandb\n",
    "import joblib\n",
    "from source.mlops.modules.download import *\n",
    "from source.mlops.modules.preprocessing import *\n",
    "from source.mlops.modules.train import *\n"
   ]
  },
  {
   "cell_type": "code",
   "execution_count": null,
   "metadata": {},
   "outputs": [],
   "source": [
    "data = {\n",
    "                \"BMI\": 16.4,\n",
    "                \"Smoking\": \"Yes\",\n",
    "                \"AlcoholDrinking\": \"No\",\n",
    "                \"Stroke\": \"No\",\n",
    "                \"PhysicalHealth\": 3.0,\n",
    "                \"MentalHealth\": 30.0,\n",
    "                \"DiffWalking\": \"No\",\n",
    "                \"Sex\": \"Female\",\n",
    "                \"AgeCategory\": \"55-59\",\n",
    "                \"Race\": \"White\",\n",
    "                \"Diabetic\": \"Yes\",\n",
    "                \"PhysicalActivity\": \"Yes\",\n",
    "                \"GenHealth\": \"Very good\",\n",
    "                \"SleepTime\": 5.0,\n",
    "                \"Asthma\": \"Yes\",\n",
    "                \"KidneyDisease\": \"No\",\n",
    "                \"SkinCancer\": \"Yes\",\n",
    "            }\n",
    "\n",
    "\n",
    "\n",
    "run = wandb.init(project=\"project_heart\", job_type=\"api\")\n",
    "artifact = run.use_artifact(\n",
    "    \"diego25rm/project_heart/model_export:v3\", type=\"pipeline_artifact\"\n",
    ").file()\n",
    "loaded_model = joblib.load(artifact)\n",
    "recieve = dict(data)\n",
    "X = pd.DataFrame([data])\n",
    "print(X)\n",
    "prediction = loaded_model.predict(X)"
   ]
  },
  {
   "cell_type": "code",
   "execution_count": null,
   "metadata": {},
   "outputs": [],
   "source": [
    "prediction"
   ]
  },
  {
   "cell_type": "markdown",
   "metadata": {},
   "source": [
    "## Tunning the decision tree"
   ]
  },
  {
   "cell_type": "code",
   "execution_count": null,
   "metadata": {},
   "outputs": [],
   "source": [
    "file_dir = Path().resolve().parent\n",
    "file_dir = os.path.join(file_dir, 'data')\n",
    "file_dir = os.path.join(file_dir, 'heart_2020_cleaned.csv')\n",
    "data = pd.read_csv(file_dir)\n",
    "y=LabelEncoder().fit_transform(data['HeartDisease'].values.reshape(-1,1))\n",
    "y = pd.DataFrame(y,columns=['HeartDisease'])\n",
    "\n",
    "X=data.drop(columns=['HeartDisease'])\n",
    "pipe = pipeline_preprocessing()\n",
    "pipe.fit_transform(X,y)"
   ]
  },
  {
   "cell_type": "code",
   "execution_count": null,
   "metadata": {},
   "outputs": [],
   "source": [
    "X"
   ]
  },
  {
   "cell_type": "code",
   "execution_count": null,
   "metadata": {},
   "outputs": [],
   "source": [
    "file_dir = Path().resolve().parent\n",
    "file_dir = os.path.join(file_dir, 'data')\n",
    "file_dir = os.path.join(file_dir, 'heart_2020_cleaned.csv')\n",
    "data = pd.read_csv(file_dir)\n",
    "\n",
    "model_artifact = \"model_export\"\n",
    "model_pipeline = Pipeline(steps=[(\"preprocess\",pipeline_preprocessing()),\n",
    "                            (\"train\",DecisionTreeClassifier(criterion= 'gini', splitter= 'best',max_depth= 4))])\n",
    "X=data.drop(columns=['HeartDisease'])\n",
    "y=LabelEncoder().fit_transform(data['HeartDisease']).astype(float)\n",
    "X_train, X_test, y_train, y_test=train_test_split(X, y, test_size=0.2)\n",
    "model_pipeline.fit(X_train,y_train)"
   ]
  },
  {
   "cell_type": "code",
   "execution_count": null,
   "metadata": {},
   "outputs": [],
   "source": [
    "X_test"
   ]
  },
  {
   "cell_type": "code",
   "execution_count": null,
   "metadata": {},
   "outputs": [],
   "source": [
    "pd.DataFrame(model_pipeline.predict(X_test))[0].value_counts()"
   ]
  },
  {
   "cell_type": "code",
   "execution_count": null,
   "metadata": {},
   "outputs": [],
   "source": [
    "# parameters = {'penalty':['l1', 'l2', 'elasticnet', 'none'], 'solver':['newton-cg','lbfgs', 'liblinear', 'sag', 'saga']}\n",
    "# clf = GridSearchCV(LogisticRegression(), parameters,cv=3,scoring='precision')\n",
    "# target = treat_data.HeartDisease\n",
    "# features = treat_data.drop(columns=['HeartDisease'])\n",
    "# clf.fit(features, target)\n",
    "# print(clf.best_params_)"
   ]
  },
  {
   "cell_type": "code",
   "execution_count": null,
   "metadata": {},
   "outputs": [],
   "source": [
    "from preprocessing import *\n",
    "y = data['HeartDisease']\n",
    "X = data.drop(columns=['HeartDisease'])\n",
    "pipe = pipeline_preprocessing()"
   ]
  },
  {
   "cell_type": "code",
   "execution_count": null,
   "metadata": {},
   "outputs": [],
   "source": [
    "\n",
    "X_prep = pipe.fit_transform(X=data, y=data['HeartDisease'])\n"
   ]
  },
  {
   "cell_type": "code",
   "execution_count": null,
   "metadata": {},
   "outputs": [],
   "source": [
    "X_prep"
   ]
  },
  {
   "cell_type": "code",
   "execution_count": null,
   "metadata": {},
   "outputs": [],
   "source": [
    "parameters = {'criterion':['gini','entropy'], 'splitter':['best', 'random'],'max_depth':range(1,8)}\n",
    "clf = GridSearchCV(DecisionTreeClassifier(), parameters,cv=5,scoring='accuracy',error_score='raise')\n",
    "y_prep = X_prep['HeartDisease']\n",
    "X_prep = X_prep.drop(columns=['HeartDisease'])\n",
    "clf.fit(X_prep, y_prep)\n",
    "print(clf.best_params_)"
   ]
  },
  {
   "cell_type": "code",
   "execution_count": null,
   "metadata": {},
   "outputs": [],
   "source": [
    "from sklearn import tree\n",
    "dt = tree.DecisionTreeClassifier(criterion= 'gini', splitter= 'best',max_depth= 7)"
   ]
  },
  {
   "cell_type": "code",
   "execution_count": null,
   "metadata": {},
   "outputs": [],
   "source": [
    "y = y_prep\n",
    "X = X_prep\n",
    "features_names = X.columns\n",
    "X_train, X_test, y_train, y_test=train_test_split(X, y, test_size=0.2)"
   ]
  },
  {
   "cell_type": "code",
   "execution_count": null,
   "metadata": {},
   "outputs": [],
   "source": [
    "from sklearn.metrics import confusion_matrix\n",
    "import plotly.express as px\n",
    "dt = dt.fit(X_train,y_train)\n",
    "y_pred = dt.predict(X_test)\n",
    "cm = confusion_matrix(y_true=y_test,y_pred=y_pred,normalize='true')\n",
    "\n",
    "fig = px.imshow(cm, text_auto=True)\n",
    "fig.show()"
   ]
  },
  {
   "cell_type": "code",
   "execution_count": null,
   "metadata": {},
   "outputs": [],
   "source": [
    "import matplotlib.pyplot as plt\n",
    "plt.figure(figsize=(40,40))\n",
    "tree.plot_tree(dt,feature_names=features_names)"
   ]
  },
  {
   "cell_type": "code",
   "execution_count": null,
   "metadata": {},
   "outputs": [],
   "source": [
    "model_artifact = \"model_export\"\n",
    "model_pipeline = Pipeline(steps=[(\"preprocess\",pipeline_preprocessing()),\n",
    "                            (\"train\",DecisionTreeClassifier(criterion= 'gini', splitter= 'best',max_depth= 4))])\n"
   ]
  },
  {
   "cell_type": "code",
   "execution_count": null,
   "metadata": {},
   "outputs": [],
   "source": []
  },
  {
   "cell_type": "code",
   "execution_count": null,
   "metadata": {},
   "outputs": [],
   "source": [
    "X=data.drop(columns=['HeartDisease'])\n",
    "y=LabelEncoder().fit_transform(data['HeartDisease']).astype(float)\n",
    "model_pipeline.fit(data,y)\n"
   ]
  },
  {
   "cell_type": "code",
   "execution_count": null,
   "metadata": {},
   "outputs": [],
   "source": [
    "joblib.dump(model_pipeline, model_artifact) "
   ]
  },
  {
   "cell_type": "code",
   "execution_count": null,
   "metadata": {},
   "outputs": [],
   "source": [
    "run = wandb.init(project=\"project_heart\",save_code=True)"
   ]
  },
  {
   "cell_type": "code",
   "execution_count": null,
   "metadata": {},
   "outputs": [],
   "source": [
    "# artifact = wandb.Artifact(model_artifact,\n",
    "#                           type=\"pipeline_artifact\",\n",
    "#                           description=\"A full pipeline composed of a Preprocessing Stage and a Decision Tree model\"\n",
    "#                           )\n",
    "\n",
    "# artifact.add_file(model_artifact)\n",
    "# run.log_artifact(artifact)"
   ]
  },
  {
   "cell_type": "code",
   "execution_count": null,
   "metadata": {},
   "outputs": [],
   "source": [
    "# artifact = run.use_artifact('diego25rm/project_heart/model_export:v0', type='pipeline_artifact')\n",
    "# artifact_dir = artifact.download()"
   ]
  },
  {
   "cell_type": "code",
   "execution_count": null,
   "metadata": {},
   "outputs": [],
   "source": [
    "# loaded_model = joblib.load(artifact.file())"
   ]
  },
  {
   "cell_type": "code",
   "execution_count": null,
   "metadata": {},
   "outputs": [],
   "source": [
    "# loaded_model"
   ]
  }
 ],
 "metadata": {
  "interpreter": {
   "hash": "1d21bcdb219647e467d80dd8c8cd2139f75afdf8e5d571c73a178780bb2ef562"
  },
  "kernelspec": {
   "display_name": "Python 3.10.2 ('.venv': poetry)",
   "language": "python",
   "name": "python3"
  },
  "language_info": {
   "codemirror_mode": {
    "name": "ipython",
    "version": 3
   },
   "file_extension": ".py",
   "mimetype": "text/x-python",
   "name": "python",
   "nbconvert_exporter": "python",
   "pygments_lexer": "ipython3",
   "version": "3.10.2"
  }
 },
 "nbformat": 4,
 "nbformat_minor": 2
}
