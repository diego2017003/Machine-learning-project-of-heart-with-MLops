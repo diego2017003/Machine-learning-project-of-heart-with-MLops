{
 "cells": [
  {
   "cell_type": "code",
   "execution_count": null,
   "metadata": {},
   "outputs": [],
   "source": [
    "import pandas as pd\n",
    "import plotly.graph_objects as go\n",
    "from pathlib import Path\n",
    "import os\n",
    "from plotly.subplots import make_subplots\n"
   ]
  },
  {
   "cell_type": "code",
   "execution_count": null,
   "metadata": {},
   "outputs": [],
   "source": [
    "file_dir = Path().resolve().parent\n",
    "file_dir = os.path.join(file_dir, 'data')\n",
    "file_dir = os.path.join(file_dir, 'heart_2020_cleaned.csv')\n",
    "data = pd.read_csv(file_dir)"
   ]
  },
  {
   "cell_type": "code",
   "execution_count": null,
   "metadata": {},
   "outputs": [],
   "source": [
    "data.info()"
   ]
  },
  {
   "cell_type": "code",
   "execution_count": null,
   "metadata": {},
   "outputs": [],
   "source": [
    "data.info()"
   ]
  },
  {
   "cell_type": "code",
   "execution_count": null,
   "metadata": {},
   "outputs": [],
   "source": [
    "for i in data.columns:\n",
    "    print(i)\n",
    "    print(data[i].unique())"
   ]
  },
  {
   "cell_type": "code",
   "execution_count": null,
   "metadata": {},
   "outputs": [],
   "source": [
    "# HeartDisease\n",
    "# BMI            \n",
    "# Smoking        \n",
    "# AlcoholDrinking\n",
    "# Stroke         \n",
    "# PhysicalHealth \n",
    "# MentalHealth   \n",
    "# DiffWalking    \n",
    "# Sex            \n",
    "# AgeCategory    \n",
    "# Race           \n",
    "# Diabetic       \n",
    "# PhysicalActivit\n",
    "# GenHealth      \n",
    "# SleepTime      \n",
    "# Asthma         \n",
    "# KidneyDisease  \n",
    "# SkinCancer     "
   ]
  },
  {
   "cell_type": "code",
   "execution_count": null,
   "metadata": {},
   "outputs": [],
   "source": [
    "data2 = data.groupby(by='SleepTime')['PhysicalHealth']"
   ]
  },
  {
   "cell_type": "code",
   "execution_count": null,
   "metadata": {},
   "outputs": [],
   "source": [
    "fig_num = make_subplots(rows=4,cols=1,shared_xaxes=False,subplot_titles=['Sleep Time','Physical Health','Mental Health','BMI'])\n",
    "row = 1\n",
    "for i in ['SleepTime','PhysicalHealth','MentalHealth']:\n",
    "    x = data.loc[data['HeartDisease']=='Yes',i]\n",
    "    y = x.value_counts(normalize=True)\n",
    "    fig_num.add_trace(go.Bar(x=y.keys(),y=y.values,name=(i+ ' and heart disease'),legendgroup=row),row=row,col=1)\n",
    "    x = data.loc[data['HeartDisease']=='No',i]\n",
    "    y = x.value_counts(normalize=True)\n",
    "    fig_num.add_trace(go.Bar(x=y.keys(),y=y.values,name=(i+ ' and no heart disease'),legendgroup=row),row=row,col=1)    \n",
    "    row = row+1\n",
    "\n",
    "x = data.loc[data['HeartDisease']=='Yes','BMI']\n",
    "y = x.value_counts(normalize=True)\n",
    "fig_num.add_trace(go.Histogram(x=y.keys(),y=y.values,name=('BMI'+ ' and heart disease'),legendgroup=row),row=row,col=1)\n",
    "x = data.loc[data['HeartDisease']=='No','BMI']\n",
    "y = x.value_counts(normalize=True)\n",
    "fig_num.add_trace(go.Histogram(x=y.keys(),y=y.values,name=('BMI'+ ' and no heart disease'),legendgroup=row),row=row,col=1)    \n",
    "fig_num.update_layout(\n",
    "    title=\"Numeric data normalized\",\n",
    "    legend=dict(\n",
    "        orientation=\"v\",\n",
    "        y = 1,\n",
    "        x=1,\n",
    "        tracegroupgap=310,\n",
    "    ),\n",
    "    hovermode=\"x unified\",\n",
    "    plot_bgcolor=\"#EEE\",\n",
    "    width = 1000,\n",
    "    height = 1400,\n",
    "    )\n",
    "fig_num.show()\n"
   ]
  },
  {
   "cell_type": "code",
   "execution_count": null,
   "metadata": {},
   "outputs": [],
   "source": [
    "fig_norm = make_subplots(rows=4,cols=1,shared_xaxes=False,subplot_titles=['Sleep Time','Physical Health','Mental Health','BMI'])\n",
    "row = 1\n",
    "for i in ['SleepTime','PhysicalHealth','MentalHealth']:\n",
    "    x = data.loc[data['HeartDisease']=='Yes',i]\n",
    "    y = x.value_counts()\n",
    "    fig_norm.add_trace(go.Bar(x=y.keys(),y=y.values,name=(i+ ' and heart disease'),legendgroup=row),row=row,col=1)\n",
    "    x = data.loc[data['HeartDisease']=='No',i]\n",
    "    y = x.value_counts()\n",
    "    fig_norm.add_trace(go.Bar(x=y.keys(),y=y.values,name=(i+ ' and no heart disease'),legendgroup=row),row=row,col=1)    \n",
    "    row = row+1\n",
    "\n",
    "x = data.loc[data['HeartDisease']=='Yes','BMI']\n",
    "y = x.value_counts()\n",
    "fig_norm.add_trace(go.Histogram(x=y.keys(),y=y.values,name=('BMI'+ ' and heart disease'),legendgroup=row),row=row,col=1)\n",
    "x = data.loc[data['HeartDisease']=='No','BMI']\n",
    "y = x.value_counts()\n",
    "fig_norm.add_trace(go.Histogram(x=y.keys(),y=y.values,name=('BMI'+ ' and no heart disease'),legendgroup=row),row=row,col=1) \n",
    "fig_norm.update_layout(\n",
    "    title=\"Numeric data plots\",\n",
    "    legend=dict(\n",
    "        groupclick = 'toggleitem',\n",
    "        orientation=\"v\",\n",
    "        y = 1,\n",
    "        x=1,\n",
    "        tracegroupgap=310,\n",
    "    ),\n",
    "    hovermode=\"x unified\",\n",
    "    plot_bgcolor=\"#EEE\",\n",
    "    width = 1000,\n",
    "    height = 1400,\n",
    "    )\n",
    "fig_norm.show()   \n"
   ]
  },
  {
   "cell_type": "code",
   "execution_count": null,
   "metadata": {},
   "outputs": [],
   "source": [
    "lista = ['Smoking', 'AlcoholDrinking', 'Stroke', 'DiffWalking', 'Sex', 'AgeCategory',\n",
    "       'Race', 'Diabetic', 'PhysicalActivity', 'GenHealth',\n",
    "       'Asthma', 'KidneyDisease', 'SkinCancer']\n",
    "select_bin_columns=[]\n",
    "for i in lista:\n",
    "    if len(data[i].unique())<=2:\n",
    "        print(i)\n",
    "        select_bin_columns.append(i)"
   ]
  },
  {
   "cell_type": "code",
   "execution_count": null,
   "metadata": {},
   "outputs": [],
   "source": [
    "fig_categorical = make_subplots(rows=len(lista),cols=1,shared_xaxes=False,subplot_titles=lista)\n",
    "row = 1\n",
    "for i in lista:\n",
    "    x = data.loc[data['HeartDisease']=='Yes',i]\n",
    "    y = x.value_counts()\n",
    "    fig_categorical.add_trace(go.Bar(x=y.keys(),y=y.values,name=(i+ ' and heart disease'),legendgroup=row),row=row,col=1)\n",
    "    x = data.loc[data['HeartDisease']=='No',i]\n",
    "    y = x.value_counts()\n",
    "    fig_categorical.add_trace(go.Bar(x=y.keys(),y=y.values,name=(i+ ' and no heart disease'),legendgroup=row),row=row,col=1)    \n",
    "    row = row+1\n",
    "\n",
    "fig_categorical.update_layout(\n",
    "    title=\"Categorical data plots\",\n",
    "    barmode = 'stack',\n",
    "    legend=dict(\n",
    "        groupclick = 'toggleitem',\n",
    "        orientation=\"v\",\n",
    "        y = 1,\n",
    "        x=1,\n",
    "        tracegroupgap=270,\n",
    "    ),\n",
    "    hovermode=\"x unified\",\n",
    "    plot_bgcolor=\"#EEE\",\n",
    "    width = 1000,\n",
    "    height = 4200,\n",
    "    )\n",
    "fig_categorical.show()   "
   ]
  },
  {
   "cell_type": "code",
   "execution_count": null,
   "metadata": {},
   "outputs": [],
   "source": [
    "import wandb"
   ]
  },
  {
   "cell_type": "code",
   "execution_count": 2,
   "metadata": {},
   "outputs": [
    {
     "name": "stdout",
     "output_type": "stream",
     "text": [
      "\u001b[34m\u001b[1mwandb\u001b[0m: You can find your API key in your browser here: https://wandb.ai/authorize\n",
      "\u001b[34m\u001b[1mwandb\u001b[0m: Paste an API key from your profile and hit enter, or press ctrl+c to quit: \n",
      "Aborted!\n"
     ]
    }
   ],
   "source": [
    "!wandb login --relogin"
   ]
  },
  {
   "cell_type": "code",
   "execution_count": null,
   "metadata": {},
   "outputs": [],
   "source": [
    "run = wandb.init(project=\"project_heart\",save_code=True)"
   ]
  },
  {
   "cell_type": "code",
   "execution_count": null,
   "metadata": {},
   "outputs": [],
   "source": [
    "run.log(\n",
    "    {\n",
    "        \"categorical eda\": wandb.Plotly(fig_categorical)\n",
    "    }\n",
    ")\n",
    "run.log(\n",
    "    {\n",
    "        \"numerical eda\": wandb.Plotly(fig_num)\n",
    "    }\n",
    ")\n",
    "run.log(\n",
    "    {\n",
    "        \"numerical normalizado eda\": wandb.Plotly(fig_norm)\n",
    "    }\n",
    ")"
   ]
  },
  {
   "cell_type": "code",
   "execution_count": null,
   "metadata": {},
   "outputs": [],
   "source": []
  }
 ],
 "metadata": {
  "interpreter": {
   "hash": "1d21bcdb219647e467d80dd8c8cd2139f75afdf8e5d571c73a178780bb2ef562"
  },
  "kernelspec": {
   "display_name": "Python 3 (ipykernel)",
   "language": "python",
   "name": "python3"
  },
  "language_info": {
   "codemirror_mode": {
    "name": "ipython",
    "version": 3
   },
   "file_extension": ".py",
   "mimetype": "text/x-python",
   "name": "python",
   "nbconvert_exporter": "python",
   "pygments_lexer": "ipython3",
   "version": "3.10.2"
  }
 },
 "nbformat": 4,
 "nbformat_minor": 2
}
