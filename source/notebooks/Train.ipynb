{
 "cells": [
  {
   "cell_type": "code",
   "execution_count": null,
   "metadata": {},
   "outputs": [],
   "source": [
    "# !pip install sklearn_pandas"
   ]
  },
  {
   "cell_type": "code",
   "execution_count": 2,
   "metadata": {},
   "outputs": [],
   "source": [
    "from sklearn.tree import DecisionTreeClassifier\n",
    "from sklearn.linear_model import LogisticRegression\n",
    "from sklearn.model_selection import GridSearchCV\n",
    "from sklearn.model_selection import train_test_split\n",
    "from sklearn.preprocessing import LabelEncoder\n",
    "import os\n",
    "import sys\n",
    "from pathlib import Path\n",
    "import pandas as pd\n",
    "import wandb\n",
    "import joblib\n",
    "\n",
    "# from source.mlops.modules.download import download_data\n",
    "# from source.mlops.modules.preprocessing import *\n",
    "#from train import *\n"
   ]
  },
  {
   "cell_type": "code",
   "execution_count": 9,
   "metadata": {},
   "outputs": [
    {
     "data": {
      "text/html": [
       "Finishing last run (ID:5kdnrytp) before initializing another..."
      ],
      "text/plain": [
       "<IPython.core.display.HTML object>"
      ]
     },
     "metadata": {},
     "output_type": "display_data"
    },
    {
     "data": {
      "text/html": [
       "Waiting for W&B process to finish... <strong style=\"color:green\">(success).</strong>"
      ],
      "text/plain": [
       "<IPython.core.display.HTML object>"
      ]
     },
     "metadata": {},
     "output_type": "display_data"
    },
    {
     "data": {
      "application/vnd.jupyter.widget-view+json": {
       "model_id": "acda82dda1494e88a612882361a8ee40",
       "version_major": 2,
       "version_minor": 0
      },
      "text/plain": [
       "VBox(children=(Label(value='0.001 MB of 0.001 MB uploaded (0.000 MB deduped)\\r'), FloatProgress(value=1.0, max…"
      ]
     },
     "metadata": {},
     "output_type": "display_data"
    },
    {
     "data": {
      "text/html": [
       "Synced <strong style=\"color:#cdcd00\">neat-shape-95</strong>: <a href=\"https://wandb.ai/diego25rm/project_heart/runs/5kdnrytp\" target=\"_blank\">https://wandb.ai/diego25rm/project_heart/runs/5kdnrytp</a><br/>Synced 5 W&B file(s), 0 media file(s), 0 artifact file(s) and 0 other file(s)"
      ],
      "text/plain": [
       "<IPython.core.display.HTML object>"
      ]
     },
     "metadata": {},
     "output_type": "display_data"
    },
    {
     "data": {
      "text/html": [
       "Find logs at: <code>./wandb/run-20220602_225536-5kdnrytp/logs</code>"
      ],
      "text/plain": [
       "<IPython.core.display.HTML object>"
      ]
     },
     "metadata": {},
     "output_type": "display_data"
    },
    {
     "data": {
      "text/html": [
       "Successfully finished last run (ID:5kdnrytp). Initializing new run:<br/>"
      ],
      "text/plain": [
       "<IPython.core.display.HTML object>"
      ]
     },
     "metadata": {},
     "output_type": "display_data"
    },
    {
     "data": {
      "text/html": [
       "Tracking run with wandb version 0.12.17"
      ],
      "text/plain": [
       "<IPython.core.display.HTML object>"
      ]
     },
     "metadata": {},
     "output_type": "display_data"
    },
    {
     "data": {
      "text/html": [
       "Run data is saved locally in <code>/home/diego/machine learning/machineLearnig_project1/Machine-learning-project-of-heart-with-MLops/source/notebooks/wandb/run-20220602_225607-1klz6p9o</code>"
      ],
      "text/plain": [
       "<IPython.core.display.HTML object>"
      ]
     },
     "metadata": {},
     "output_type": "display_data"
    },
    {
     "data": {
      "text/html": [
       "Syncing run <strong><a href=\"https://wandb.ai/diego25rm/project_heart/runs/1klz6p9o\" target=\"_blank\">polar-snowflake-96</a></strong> to <a href=\"https://wandb.ai/diego25rm/project_heart\" target=\"_blank\">Weights & Biases</a> (<a href=\"https://wandb.me/run\" target=\"_blank\">docs</a>)<br/>"
      ],
      "text/plain": [
       "<IPython.core.display.HTML object>"
      ]
     },
     "metadata": {},
     "output_type": "display_data"
    },
    {
     "name": "stdout",
     "output_type": "stream",
     "text": [
      "     BMI Smoking AlcoholDrinking Stroke  PhysicalHealth  MentalHealth  \\\n",
      "0  38.87     Yes             Yes     No             6.0           0.0   \n",
      "\n",
      "  DiffWalking     Sex AgeCategory   Race Diabetic PhysicalActivity GenHealth  \\\n",
      "0         Yes  Female       75-79  Black       No               No      Fair   \n",
      "\n",
      "   SleepTime Asthma KidneyDisease SkinCancer  \n",
      "0       12.0     No            No         No  \n"
     ]
    }
   ],
   "source": [
    "data = {\n",
    "                \"BMI\": 38.87,\n",
    "                \"Smoking\": \"Yes\",\n",
    "                \"AlcoholDrinking\": \"Yes\",\n",
    "                \"Stroke\": \"No\",\n",
    "                \"PhysicalHealth\": 6.0,\n",
    "                \"MentalHealth\": 0.0,\n",
    "                \"DiffWalking\": \"Yes\",\n",
    "                \"Sex\": \"Female\",\n",
    "                \"AgeCategory\": \"75-79\",\n",
    "                \"Race\": \"Black\",\n",
    "                \"Diabetic\": \"No\",\n",
    "                \"PhysicalActivity\": \"No\",\n",
    "                \"GenHealth\": \"Fair\",\n",
    "                \"SleepTime\": 12.0,\n",
    "                \"Asthma\": \"No\",\n",
    "                \"KidneyDisease\": \"No\",\n",
    "                \"SkinCancer\": \"No\",\n",
    "            }\n",
    "\n",
    "\n",
    "\n",
    "run = wandb.init(project=\"project_heart\", job_type=\"api\")\n",
    "artifact = run.use_artifact(\n",
    "    \"diego25rm/project_heart/model_export:v4\", type=\"pipeline_artifact\"\n",
    ").file()\n",
    "loaded_model = joblib.load(artifact)\n",
    "recieve = dict(data)\n",
    "X = pd.DataFrame([data])\n",
    "print(X)\n",
    "prediction = loaded_model"
   ]
  },
  {
   "cell_type": "code",
   "execution_count": 10,
   "metadata": {},
   "outputs": [
    {
     "data": {
      "text/plain": [
       "array([0])"
      ]
     },
     "execution_count": 10,
     "metadata": {},
     "output_type": "execute_result"
    }
   ],
   "source": [
    "prediction"
   ]
  },
  {
   "cell_type": "markdown",
   "metadata": {},
   "source": [
    "## Tunning the decision tree"
   ]
  },
  {
   "cell_type": "code",
   "execution_count": null,
   "metadata": {},
   "outputs": [],
   "source": [
    "parameters = {'penalty':['l1', 'l2', 'elasticnet', 'none'], 'solver':['newton-cg','lbfgs', 'liblinear', 'sag', 'saga']}\n",
    "clf = GridSearchCV(LogisticRegression(), parameters,cv=3,scoring='precision')\n",
    "target = treat_data.HeartDisease\n",
    "features = treat_data.drop(columns=['HeartDisease'])\n",
    "clf.fit(features, target)\n",
    "print(clf.best_params_)"
   ]
  },
  {
   "cell_type": "code",
   "execution_count": null,
   "metadata": {},
   "outputs": [],
   "source": [
    "file_dir = Path().resolve().parent\n",
    "file_dir = os.path.join(file_dir, 'data')\n",
    "file_dir = os.path.join(file_dir, 'heart_2020_cleaned.csv')\n",
    "data = pd.read_csv(file_dir)\n",
    "y=LabelEncoder().fit_transform(data['HeartDisease'].values.reshape(-1,1))\n",
    "y = pd.DataFrame(y,columns=['HeartDisease'])\n",
    "\n",
    "X=data.drop(columns=['HeartDisease'])\n",
    "pipe = pipeline_preprocessing()\n",
    "pipe.fit_transform(X,y)"
   ]
  },
  {
   "cell_type": "code",
   "execution_count": null,
   "metadata": {},
   "outputs": [],
   "source": [
    "X"
   ]
  },
  {
   "cell_type": "code",
   "execution_count": null,
   "metadata": {},
   "outputs": [],
   "source": [
    "file_dir = Path().resolve().parent\n",
    "file_dir = os.path.join(file_dir, 'data')\n",
    "file_dir = os.path.join(file_dir, 'heart_2020_cleaned.csv')\n",
    "data = pd.read_csv(file_dir)\n",
    "\n",
    "model_artifact = \"model_export\"\n",
    "model_pipeline = Pipeline(steps=[(\"preprocess\",pipeline_preprocessing()),\n",
    "                            (\"train\",DecisionTreeClassifier(criterion= 'gini', splitter= 'best',max_depth= 4))])\n",
    "X=data.drop(columns=['HeartDisease'])\n",
    "y=LabelEncoder().fit_transform(data['HeartDisease']).astype(float)\n",
    "X_train, X_test, y_train, y_test=train_test_split(X, y, test_size=0.2)\n",
    "model_pipeline.fit(X_train,y_train)"
   ]
  },
  {
   "cell_type": "code",
   "execution_count": null,
   "metadata": {},
   "outputs": [],
   "source": [
    "X_test"
   ]
  },
  {
   "cell_type": "code",
   "execution_count": null,
   "metadata": {},
   "outputs": [],
   "source": [
    "pd.DataFrame(model_pipeline.predict(X_test))[0].value_counts()"
   ]
  },
  {
   "cell_type": "code",
   "execution_count": null,
   "metadata": {},
   "outputs": [],
   "source": [
    "from preprocessing import *\n",
    "y = data['HeartDisease']\n",
    "X = data.drop(columns=['HeartDisease'])\n",
    "pipe = pipeline_preprocessing()"
   ]
  },
  {
   "cell_type": "code",
   "execution_count": null,
   "metadata": {},
   "outputs": [],
   "source": [
    "\n",
    "X_prep = pipe.fit_transform(X=data, y=data['HeartDisease'])\n"
   ]
  },
  {
   "cell_type": "code",
   "execution_count": null,
   "metadata": {},
   "outputs": [],
   "source": [
    "X_prep"
   ]
  },
  {
   "cell_type": "code",
   "execution_count": null,
   "metadata": {},
   "outputs": [],
   "source": [
    "parameters = {'criterion':['gini','entropy'], 'splitter':['best', 'random'],'max_depth':range(1,8)}\n",
    "clf = GridSearchCV(DecisionTreeClassifier(), parameters,cv=5,scoring='accuracy',error_score='raise')\n",
    "y_prep = X_prep['HeartDisease']\n",
    "X_prep = X_prep.drop(columns=['HeartDisease'])\n",
    "clf.fit(X_prep, y_prep)\n",
    "print(clf.best_params_)"
   ]
  },
  {
   "cell_type": "code",
   "execution_count": null,
   "metadata": {},
   "outputs": [],
   "source": [
    "from sklearn import tree\n",
    "dt = tree.DecisionTreeClassifier(criterion= 'gini', splitter= 'best',max_depth= 7)"
   ]
  },
  {
   "cell_type": "code",
   "execution_count": null,
   "metadata": {},
   "outputs": [],
   "source": [
    "y = y_prep\n",
    "X = X_prep\n",
    "features_names = X.columns\n",
    "X_train, X_test, y_train, y_test=train_test_split(X, y, test_size=0.2)"
   ]
  },
  {
   "cell_type": "code",
   "execution_count": null,
   "metadata": {},
   "outputs": [],
   "source": [
    "from sklearn.metrics import confusion_matrix\n",
    "import plotly.express as px\n",
    "dt = dt.fit(X_train,y_train)\n",
    "y_pred = dt.predict(X_test)\n",
    "cm = confusion_matrix(y_true=y_test,y_pred=y_pred,normalize='true')\n",
    "\n",
    "fig = px.imshow(cm, text_auto=True)\n",
    "fig.show()"
   ]
  },
  {
   "cell_type": "code",
   "execution_count": null,
   "metadata": {},
   "outputs": [],
   "source": [
    "import matplotlib.pyplot as plt\n",
    "plt.figure(figsize=(40,40))\n",
    "tree.plot_tree(dt,feature_names=features_names)"
   ]
  },
  {
   "cell_type": "code",
   "execution_count": null,
   "metadata": {},
   "outputs": [],
   "source": [
    "model_artifact = \"model_export\"\n",
    "model_pipeline = Pipeline(steps=[(\"preprocess\",pipeline_preprocessing()),\n",
    "                            (\"train\",DecisionTreeClassifier(criterion= 'gini', splitter= 'best',max_depth= 4))])\n"
   ]
  },
  {
   "cell_type": "code",
   "execution_count": null,
   "metadata": {},
   "outputs": [],
   "source": []
  },
  {
   "cell_type": "code",
   "execution_count": null,
   "metadata": {},
   "outputs": [],
   "source": [
    "X=data.drop(columns=['HeartDisease'])\n",
    "y=LabelEncoder().fit_transform(data['HeartDisease']).astype(float)\n",
    "model_pipeline.fit(data,y)\n"
   ]
  },
  {
   "cell_type": "code",
   "execution_count": null,
   "metadata": {},
   "outputs": [],
   "source": [
    "joblib.dump(model_pipeline, model_artifact) "
   ]
  },
  {
   "cell_type": "code",
   "execution_count": null,
   "metadata": {},
   "outputs": [],
   "source": [
    "run = wandb.init(project=\"project_heart\",save_code=True)"
   ]
  },
  {
   "cell_type": "code",
   "execution_count": null,
   "metadata": {},
   "outputs": [],
   "source": [
    "# artifact = wandb.Artifact(model_artifact,\n",
    "#                           type=\"pipeline_artifact\",\n",
    "#                           description=\"A full pipeline composed of a Preprocessing Stage and a Decision Tree model\"\n",
    "#                           )\n",
    "\n",
    "# artifact.add_file(model_artifact)\n",
    "# run.log_artifact(artifact)"
   ]
  },
  {
   "cell_type": "code",
   "execution_count": null,
   "metadata": {},
   "outputs": [],
   "source": [
    "# artifact = run.use_artifact('diego25rm/project_heart/model_export:v0', type='pipeline_artifact')\n",
    "# artifact_dir = artifact.download()"
   ]
  },
  {
   "cell_type": "code",
   "execution_count": null,
   "metadata": {},
   "outputs": [],
   "source": [
    "# loaded_model = joblib.load(artifact.file())"
   ]
  },
  {
   "cell_type": "code",
   "execution_count": null,
   "metadata": {},
   "outputs": [],
   "source": [
    "# loaded_model"
   ]
  }
 ],
 "metadata": {
  "interpreter": {
   "hash": "c57b48a9d5b964dcb865bde92efa29f7bfb9c2a909e55967c168cc860a9419e6"
  },
  "kernelspec": {
   "display_name": "Python 3.10.2 ('.venv': poetry)",
   "language": "python",
   "name": "python3"
  },
  "language_info": {
   "codemirror_mode": {
    "name": "ipython",
    "version": 3
   },
   "file_extension": ".py",
   "mimetype": "text/x-python",
   "name": "python",
   "nbconvert_exporter": "python",
   "pygments_lexer": "ipython3",
   "version": "3.10.2"
  }
 },
 "nbformat": 4,
 "nbformat_minor": 2
}
