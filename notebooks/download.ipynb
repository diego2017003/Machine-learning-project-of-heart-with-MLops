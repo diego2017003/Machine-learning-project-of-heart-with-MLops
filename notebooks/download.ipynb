{
 "cells": [
  {
   "cell_type": "code",
   "execution_count": 1,
   "metadata": {},
   "outputs": [],
   "source": [
    "import wandb\n",
    "import pandas as pd"
   ]
  },
  {
   "cell_type": "code",
   "execution_count": 2,
   "metadata": {},
   "outputs": [
    {
     "name": "stdout",
     "output_type": "stream",
     "text": [
      "Traceback (most recent call last):\n",
      "  File \"/mnt/c/Users/diego/Desktop/machineLearnig_project1/.venv/bin/wandb\", line 8, in <module>\n",
      "    sys.exit(cli())\n",
      "  File \"/mnt/c/Users/diego/Desktop/machineLearnig_project1/.venv/lib/python3.10/site-packages/click/core.py\", line 1128, in __call__\n",
      "    return self.main(*args, **kwargs)\n",
      "  File \"/mnt/c/Users/diego/Desktop/machineLearnig_project1/.venv/lib/python3.10/site-packages/click/core.py\", line 1053, in main\n",
      "    rv = self.invoke(ctx)\n",
      "  File \"/mnt/c/Users/diego/Desktop/machineLearnig_project1/.venv/lib/python3.10/site-packages/click/core.py\", line 1659, in invoke\n",
      "    return _process_result(sub_ctx.command.invoke(sub_ctx))\n",
      "  File \"/mnt/c/Users/diego/Desktop/machineLearnig_project1/.venv/lib/python3.10/site-packages/click/core.py\", line 1395, in invoke\n",
      "    return ctx.invoke(self.callback, **ctx.params)\n",
      "  File \"/mnt/c/Users/diego/Desktop/machineLearnig_project1/.venv/lib/python3.10/site-packages/click/core.py\", line 754, in invoke\n",
      "    return __callback(*args, **kwargs)\n",
      "  File \"/mnt/c/Users/diego/Desktop/machineLearnig_project1/.venv/lib/python3.10/site-packages/wandb/cli/cli.py\", line 95, in wrapper\n",
      "    return func(*args, **kwargs)\n",
      "  File \"/mnt/c/Users/diego/Desktop/machineLearnig_project1/.venv/lib/python3.10/site-packages/wandb/cli/cli.py\", line 243, in login\n",
      "    wandb.login(relogin=relogin, key=key, anonymous=anon_mode, host=host, force=True)\n",
      "  File \"/mnt/c/Users/diego/Desktop/machineLearnig_project1/.venv/lib/python3.10/site-packages/wandb/sdk/wandb_login.py\", line 76, in login\n",
      "    configured = _login(**kwargs)\n",
      "  File \"/mnt/c/Users/diego/Desktop/machineLearnig_project1/.venv/lib/python3.10/site-packages/wandb/sdk/wandb_login.py\", line 291, in _login\n",
      "    wlogin.configure_api_key(key)\n",
      "  File \"/mnt/c/Users/diego/Desktop/machineLearnig_project1/.venv/lib/python3.10/site-packages/wandb/sdk/wandb_login.py\", line 175, in configure_api_key\n",
      "    apikey.write_key(self._settings, key)\n",
      "  File \"/mnt/c/Users/diego/Desktop/machineLearnig_project1/.venv/lib/python3.10/site-packages/wandb/sdk/lib/apikey.py\", line 210, in write_key\n",
      "    raise ValueError(\"API key must be 40 characters long, yours was %s\" % len(key))\n",
      "ValueError: API key must be 40 characters long, yours was 9\n"
     ]
    }
   ],
   "source": [
    "!wandb login --relogin"
   ]
  },
  {
   "cell_type": "code",
   "execution_count": null,
   "metadata": {},
   "outputs": [],
   "source": [
    "run = wandb.init(project=\"project_heart\")"
   ]
  },
  {
   "cell_type": "code",
   "execution_count": null,
   "metadata": {},
   "outputs": [],
   "source": [
    "artifact = run.use_artifact(\"diego25rm/project_heart/heart_2020_cleaned.csv:latest\") "
   ]
  },
  {
   "cell_type": "code",
   "execution_count": null,
   "metadata": {},
   "outputs": [],
   "source": [
    "df = pd.read_csv(artifact.file())\n",
    "df"
   ]
  }
 ],
 "metadata": {
  "interpreter": {
   "hash": "1d21bcdb219647e467d80dd8c8cd2139f75afdf8e5d571c73a178780bb2ef562"
  },
  "kernelspec": {
   "display_name": "Python 3.10.2 ('.venv': poetry)",
   "language": "python",
   "name": "python3"
  },
  "language_info": {
   "codemirror_mode": {
    "name": "ipython",
    "version": 3
   },
   "file_extension": ".py",
   "mimetype": "text/x-python",
   "name": "python",
   "nbconvert_exporter": "python",
   "pygments_lexer": "ipython3",
   "version": "3.10.2"
  },
  "orig_nbformat": 4
 },
 "nbformat": 4,
 "nbformat_minor": 2
}
